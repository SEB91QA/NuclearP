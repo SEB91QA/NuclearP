{
 "cells": [
  {
   "cell_type": "code",
   "execution_count": 141,
   "metadata": {},
   "outputs": [
    {
     "name": "stdout",
     "output_type": "stream",
     "text": [
      "[[ 0.77460676  2.14541147  0.98662028 ... 10.88219503 11.00118342\n",
      "   0.47247812]\n",
      " [ 0.91106657  2.55385057  1.16737371 ... 13.72006096 13.75750914\n",
      "   0.55495327]\n",
      " [ 1.02709243  2.83079275  1.32014081 ... 15.21768028 15.22557843\n",
      "   0.6172905 ]\n",
      " ...\n",
      " [ 1.86950322  3.90536472  2.37331919 ... 17.65404208 17.64781595\n",
      "   0.92265028]\n",
      " [ 1.8992972   3.93435296  2.41013032 ... 17.67472703 17.6684987\n",
      "   0.93227398]\n",
      " [ 1.92743108  3.96199452  2.44499777 ... 17.69323639 17.68700635\n",
      "   0.94159904]]\n"
     ]
    },
    {
     "data": {
      "text/plain": [
       "'Hemos obtenido una lista con los valores de Y'"
      ]
     },
     "execution_count": 141,
     "metadata": {},
     "output_type": "execute_result"
    }
   ],
   "source": [
    "\n",
    "\n",
    "import matplotlib.pyplot as plt\n",
    "import numpy as np\n",
    "import pandas as pd\n",
    "import math\n",
    "from scipy.integrate import quad\n",
    "from scipy.optimize import curve_fit\n",
    "\n",
    "\n",
    "    \n",
    "    \n",
    "    \n",
    "    \n",
    "def g_1d(E, T, a, P_N, P_Z):\n",
    "    '''Definición de la derivada de la primera función de densidad con E'''\n",
    "    \n",
    "    U = E - P_N - P_Z\n",
    "    \n",
    "    g = (np.sqrt(np.pi)/12) * ( (2 * np.sqrt(a * U))/( a**(1/4) * U**(5/4)) )\n",
    "    \n",
    "    return (E*np.exp(-E/T) * g ) \n",
    "\n",
    "\n",
    "def g_1(E, T, a, P_Z, P_N):\n",
    "    '''Definición de la primera función de densidad sin E'''\n",
    "    \n",
    "    U = E - P_N - P_Z\n",
    "    \n",
    "    g = (np.sqrt(np.pi)/12) * ( (2 * np.sqrt(a * U))/( a**(1/4) * U**(5/4) ) ) \n",
    "    \n",
    "    return np.exp(-E/T) * g\n",
    "\n",
    "\n",
    "#################################################################\n",
    "\n",
    "def g_2d(E, T, sigma, E_0, tau):\n",
    "    '''Definición de la derivada de la segunda función de densidad con E'''\n",
    "    \n",
    "    g = ( (np.sqrt(2 * np.pi) * sigma) / tau ) * (np.exp(E - E_0)/tau )\n",
    "    \n",
    "    return ( E*np.exp(-E/T) * g )\n",
    "    \n",
    "##################################################################    \n",
    "\n",
    "\n",
    "def g_2(E, T, sigma, E_0, tau):\n",
    "    '''Definición de la segunda función de densidad'''\n",
    "    \n",
    "    g = ( (np.sqrt(2 * np.pi) * sigma) / tau ) * (np.exp(E - E_0)/tau )\n",
    "    \n",
    "    return np.exp(-E/T) * g\n",
    "    \n",
    "##################################################################### \n",
    "    \n",
    "\n",
    "def z_1(E, T):\n",
    "    '''Primera parte de la función de partición'''\n",
    "    \n",
    "    suma = 0\n",
    "    \n",
    "    for e in E:\n",
    "        suma += np.exp(-e/T)\n",
    "        \n",
    "    return suma\n",
    "  \n",
    "#####################################################################\n",
    "\n",
    "def z_1d( E, T ):\n",
    "    ''' Derivada de la primera parte de la función de partición'''\n",
    "    \n",
    "    suma = 0\n",
    "    \n",
    "    for e in E:\n",
    "        suma += e * np.exp(-e/T)\n",
    "        \n",
    "    return suma\n",
    "\n",
    "\n",
    "####################################################################\n",
    "\n",
    "def binding(P, T, alfa, beta, gamma, eta, delta):\n",
    "    '''Parametros de la funcion'''\n",
    "\n",
    "\n",
    "    N , Z = P\n",
    "    \n",
    "    A = N + Z\n",
    "    t = (0.5) * (Z - N)\n",
    "    R = 1.07 * (1 + 0.01 * T)\n",
    "    \n",
    "    \n",
    "    f = A%2 + Z%2 - np.ones(len(A)) \n",
    "    \n",
    "    return alfa * A**(3/4) + beta * A**(2/3) + (gamma - (eta/A**(1/3)))*( (4*t**2 + 4*np.abs(t))/A ) + (Z**2)/(R * A**(1/3))*(1 - 0.7636/(Z**(2/3)) - 2.29/(R * A**(1/3))**2) + delta*(1/A**(3/4))\n",
    "    \n",
    "\n",
    "########################################################################\n",
    "\n",
    "'''Vamos a realizar una prueba'''\n",
    "\n",
    "\n",
    "\n",
    "T = np.linspace(1, 4, 20)\n",
    "#print(type(t))\n",
    "\n",
    "'''Creamos una lista con los elementos del eje y'''\n",
    "\n",
    "Y = []\n",
    "\n",
    "for t in T:\n",
    "    t = np.round(t, 3)\n",
    "   \n",
    "    elements_pro = {'63Zn' : [8.69, 1.06, 0, 7.45, -0.44, 3.0, 33, 30, 1.10] , '64Zn' : [8.73, 1.06, 1.41, 8.03, 0.99, 3.0, 34, 30, 1.04],  '65Zn' : [8.72, 1.06, 0, 8.57, -1.11, 3.2, 35, 30, 1.07],\n",
    "                    '66Zn' : [8.75, 1.06, 1.50, 8.99, 1.50, 2.9, 36, 30, 0.89],   '67Zn' : [8.73, 1.06, 0, 9.39, -0.73, 3.2, 37, 30, 0.95], '68Zn' : [8.75, 1.06, 1.50, 9.75, 1.19, 3.1 , 38, 30, 0.88],\n",
    "                    '69Ga' : [8.72, 0, 1.50, 10.21, 0.08, 3.15, 38, 31, 0.855], '71Ga' : [8.72, 0, 1.43, 10.76, 0.05, 3.2, 40, 31, 0.815], '70Ge' : [8.72, 1.36, 1.50, 10.74, 0.89, 3.35, 38, 32, 0.855],\n",
    "                    '72Ge' : [8.73, 1.36, 1.43, 11.30, 0.88, 3.40, 40, 32, 0.845], '74Ge' : [8,72, 1.36, 1.88, 12.48, 0.84, 3.65, 42, 32, 0.83],'75As' : [8.70, 0, 1.88, 11.95, -1.24, 3.75, 42, 33, 0.92],\n",
    "                    '75Se' : [8.68, 1.43 , 0, 12.02, -0.76, 3.55, 41, 34, 0.835],'76Se' : [8.71, 1.43, 1.88 , 12.11, 0.60, 3.75, 42, 34, 0.875],'77Se' : [8.69, 1.43, 0, 11.80, -0.68, 3.6, 43, 34, 0.84],\n",
    "                    '78Se' : [8.72, 1.43, 1.47, 11.88, 0.94, 3.55, 44, 34, 0.82], '80Se' : [8.71, 1.43, 1.57, 11.89, 0.57, 3.70, 46, 34, 0.865],'79Br' : [8.69, 0, 1.47, 12.48, -0.98, 3.75, 44, 35, 0.835],\n",
    "                    '84Kr' : [8.72, 1.17, 1.46, 11.36, 1.20, 3.45, 48, 36, 0.79 ],'83Rb' : [8.67, 0, 1.57, 12.70, -0.04, 3.55, 46, 37, 0.745],'85Sr': [8.67, 1.24, 0, 12.19, -0.01, 3.4, 47, 38, 0.725],\n",
    "                    '92Zr' : [8.50, 1.20, 0.72, 11.17, 1.01, 3.35, 52, 40, 0.74 ],'94Zr' : [8.67, 1.20, 1.12, 12.15, 0.84, 3.65, 54, 40, 0.76 ], '93Nb': [8.66, 0, 0.72, 10.88, -0.12, 3.3, 52, 41, 0.745],\n",
    "                    '93Mo' : [8.65, 1.28, 0, 10.13, 0.43, 3.3, 51, 42, 0.79],  '95Mo' : [8.65, 1.28, 0, 11.36, -0.87, 3.8, 53, 42, 0.87 ], '96Mo': [8.65, 1.28, 1.12, 12.67, 1.01, 3.7, 54, 42, 0.725],\n",
    "                    '97Mo' : [8.63, 1.28, 0, 12.93, -0.01, 3.6, 55, 42, 0.70 ], '99Mo' : [8.61, 1.28, 0, 14.17, -0.66, 3.95, 57,42, 0.72],'101Mo': [8.57, 1.28, 0, 15.48, -0.51, 4.0, 59, 42, 0.66],\n",
    "                    '99Ru' : [8.61, 1.28, 0, 12.68, -0.27, 3.8, 55, 44, 0.745], '100Ru': [8.62, 1.28, 1.29, 13.30, 0.95, 3.8, 56, 44, 0.725], '101Ru': [8.60, 1.28, 0, 13.93, -0.83, 4.0, 57, 44, 0.745],\n",
    "                    '102Ru': [8.61, 1.28, 0.94, 15.13, 0.80, 3.85, 58, 44, 0.64], '103Rh': [8.58, 0, 0.94, 14.70, -0.36, 3.75, 58, 45, 0.64],'104Rh': [8.57, 0, 0, 15.30, -1.11, 3.75, 59, 45, 0.60],\n",
    "                    '105Rh': [8.57, 0, 1.24, 16.06, -0.24, 3.95, 60, 45, 0.615],'104Pd': [8.58, 1.35, 0.94, 14.55, 0.90, 3.85, 58, 46, 0.655 ],'105Pd': [8.57, 1.35, 0, 15.16, -0.90, 4.2, 59, 46, 0.72],\n",
    "                    '106Pd': [8.58, 1.35, 1.24, 15.64, 0.78, 4.1, 60, 46, 0.66],  '108Pd': [8.57, 1.35, 1.25, 17.01, 0.47, 4.3, 62, 46, 0.66 ], '107Ag': [8.55, 0, 1.18, 15.71, 0.08, 3.8, 60, 47, 0.59],\n",
    "                    '108Ag': [8.54,    0,    0, 15.14, -0.76,3.6, 61, 47, 0.56],  '109Ag': [8.55, 0, 1.25, 16.80, -0.41, 4.1, 62, 47, 0.61 ],'111Ag': [8.53, 0, 1.14, 17.51, -0.31, 4.05, 64, 47, 0.575],\n",
    "                    '108Cd': [8.55, 1.36, 1.24, 15.47, 1.20, 3.95, 60, 48, 0.625], '109Cd': [8.54, 1.36, 0, 16.12, -0.80, 4.25, 61, 48, 0.675 ],'110Cd':[8.55, 1.36, 1.25, 16.56, 0.95, 4.1, 62, 48, 0.62],\n",
    "                    '111Cd': [8.54, 1.36, 0, 16.94, -0.39, 4.15, 63, 48, 0.615],'112Cd': [8.54, 1.36, 1.14, 15.82, 0.77, 4.15, 64, 48, 0.65], '114Cd':[8.54, 1.36, 1.32, 17.43, 0.59, 4.35, 66, 48, 0.635],\n",
    "                    '115In': [8.52, 0, 1.14, 17.44, 0.15, 4.0, 66, 49, 0.55],  '117In':[8.50, 0, 1.15, 17.38, 0.11, 3.9, 68, 49, 0.535]}\n",
    "    \n",
    "    '''Las propiedades son:  [B_0, P(Z), P(N), a, E_0, simga, N, Z, tau]'''\n",
    "    \n",
    "    '''                      [0  , 1 ,   2   , 3, 4 ,  5,     6, 7, 8  ]'''\n",
    "        \n",
    "    y = []    \n",
    "        \n",
    "    for el in elements_pro:\n",
    "        \n",
    "            '''Leemos los csv de cada elemento'''\n",
    "            \n",
    "            element_file = pd.read_csv(el+'.csv', names=['Z', 'N', 'symbol', 'energy', 'unc', 'jp', 'half-life operator',\n",
    "            'half_life', 'unc.1', 'unit', 'half_life[s]', 'unc.2', 'decay',\n",
    "            'decay %', 'unc.3', 'decay.1', 'decay %.1', 'unc.4', 'decay.2',\n",
    "            'decay %.2', 'unc.5', 'isospin', 'magn. dipole', 'unc.6',\n",
    "            'elect.quadrupole ', 'unc.7'], comment=',', header=None)\n",
    "            \n",
    "           \n",
    "            '''Pasamos todo a float'''\n",
    "            element_file['energy'] = pd.to_numeric(element_file['energy'], errors='coerce')\n",
    "            \n",
    "            \n",
    "            '''Eliminamos los nan'''\n",
    "            element_file.dropna(subset = ['energy'], inplace=True)   \n",
    "        \n",
    "        \n",
    "            '''Tomamos las condición si se cumple o no'''\n",
    "            \n",
    "            U_x = 2.5 + (150./( elements_pro[el][6] + elements_pro[el][7] ))\n",
    "            \n",
    "            E_x = (U_x + elements_pro[el][1] + elements_pro[el][2])\n",
    "            \n",
    "            \n",
    "            '''Integramos dependiendo de la función de densidad'''\n",
    "            \n",
    "            if ( (element_file['energy'][element_file['energy'].shape[0]])/1000 ) > E_x:\n",
    "                \n",
    "                intr_0 = quad(g_1, (element_file['energy'][element_file['energy'].shape[0]]/1000), 20, \n",
    "                              args=(t, elements_pro[el][3], elements_pro[el][1], elements_pro[el][2]))[0] \n",
    "                \n",
    "                #print(intr_0)\n",
    "                \n",
    "                intr_1 = quad(g_1d, (element_file['energy'][element_file['energy'].shape[0]]/1000), 20, \n",
    "                              args=(t, elements_pro[el][3], elements_pro[el][1], elements_pro[el][2]))[0] \n",
    "            \n",
    "            \n",
    "            else:\n",
    "                \n",
    "                intr_0 = quad(g_2, (element_file['energy'][element_file['energy'].shape[0]]/1000), 20, \n",
    "                              args=(t, elements_pro[el][5], elements_pro[el][4], elements_pro[el][8]))[0] \n",
    "                \n",
    "                intr_1 = quad(g_2d, (element_file['energy'][element_file['energy'].shape[0]]/1000), 20, \n",
    "                 args=(t, elements_pro[el][5], elements_pro[el][4], elements_pro[el][8]))[0] \n",
    "            \n",
    "            \n",
    "            #print(intr_0)\n",
    "            #print(intr_1)\n",
    "            \n",
    "            E_y = ( z_1d(element_file['energy'][2:]/1000, t ) + intr_1 )/( 1. + z_1(element_file['energy'][2:]/1000, t) + intr_0 )\n",
    "            \n",
    "            #print(E_y)\n",
    "            #E_y = -(elements_pro[el][0])*(elements_pro[el][6] + elements_pro[el][7] ) + (1 / ( z_1( (element_file['energy'][2:]/1000), t) + intr_0) ) *  ( z_1d( (element_file['energy'][2:]/1000), t) + intr_1 )\n",
    "            \n",
    "            y.append( E_y + (-1)*elements_pro[el][0]*(elements_pro[el][6] + elements_pro[el][7] )/1000 )\n",
    "            \n",
    "            \n",
    "       \n",
    "    Y.append(y)\n",
    "    \n",
    "    \n",
    "\n",
    "Y = np.asarray(Y)\n",
    "print(Y)\n",
    "\n",
    "'''Hemos obtenido una lista con los valores de Y'''\n"
   ]
  },
  {
   "cell_type": "code",
   "execution_count": 142,
   "metadata": {},
   "outputs": [
    {
     "name": "stdout",
     "output_type": "stream",
     "text": [
      "[[33.   30.  ]\n",
      " [34.   30.  ]\n",
      " [35.   30.  ]\n",
      " [36.   30.  ]\n",
      " [37.   30.  ]\n",
      " [38.   30.  ]\n",
      " [38.   31.  ]\n",
      " [40.   31.  ]\n",
      " [38.   32.  ]\n",
      " [40.   32.  ]\n",
      " [ 3.65 42.  ]\n",
      " [42.   33.  ]\n",
      " [41.   34.  ]\n",
      " [42.   34.  ]\n",
      " [43.   34.  ]\n",
      " [44.   34.  ]\n",
      " [46.   34.  ]\n",
      " [44.   35.  ]\n",
      " [48.   36.  ]\n",
      " [46.   37.  ]\n",
      " [47.   38.  ]\n",
      " [52.   40.  ]\n",
      " [54.   40.  ]\n",
      " [52.   41.  ]\n",
      " [51.   42.  ]\n",
      " [53.   42.  ]\n",
      " [54.   42.  ]\n",
      " [55.   42.  ]\n",
      " [57.   42.  ]\n",
      " [59.   42.  ]\n",
      " [55.   44.  ]\n",
      " [56.   44.  ]\n",
      " [57.   44.  ]\n",
      " [58.   44.  ]\n",
      " [58.   45.  ]\n",
      " [59.   45.  ]\n",
      " [60.   45.  ]\n",
      " [58.   46.  ]\n",
      " [59.   46.  ]\n",
      " [60.   46.  ]\n",
      " [62.   46.  ]\n",
      " [60.   47.  ]\n",
      " [61.   47.  ]\n",
      " [62.   47.  ]\n",
      " [64.   47.  ]\n",
      " [60.   48.  ]\n",
      " [61.   48.  ]\n",
      " [62.   48.  ]\n",
      " [63.   48.  ]\n",
      " [64.   48.  ]\n",
      " [66.   48.  ]\n",
      " [66.   49.  ]\n",
      " [68.   49.  ]]\n"
     ]
    }
   ],
   "source": [
    "\n",
    "A = []\n",
    "\n",
    "for n in elements_pro.keys():\n",
    "    a = elements_pro[n][6] #N\n",
    "    b = elements_pro[n][7] #Z\n",
    "    \n",
    "    A.append([a, b])\n",
    "\n",
    "A = np.asarray(A)\n",
    "\n",
    "print(A)\n",
    "\n",
    "A = np.transpose(A)\n",
    "\n",
    "\n",
    "#params = np.asarray(params)\n",
    "#type(params)"
   ]
  },
  {
   "cell_type": "code",
   "execution_count": 190,
   "metadata": {},
   "outputs": [
    {
     "data": {
      "text/plain": [
       "'\\nfor t in range(len(T)):\\n     \\n    popt , pcov = curve_fit(lambda P, alfa, beta, gamma, eta, delta: binding(P, T[t] ,alfa, beta, gamma, eta, delta), A, Y[t],\\n                            p0 = (-16.11, 20.21, 20.65, 48.00, 33.00))\\n\\n    alfas[t] = popt[0]\\n    betas[t] = popt[1]\\n    gammas[t] = popt[2]\\n    etas[t] = popt[3]\\n\\n'"
      ]
     },
     "execution_count": 190,
     "metadata": {},
     "output_type": "execute_result"
    }
   ],
   "source": [
    "\n",
    "T = np.linspace(1, 4, 20)\n",
    "\n",
    "\n",
    "alfas = np.zeros(len(T))\n",
    "betas = np.zeros(len(T))\n",
    "gammas = np.zeros(len(T))\n",
    "etas = np.zeros(len(T))\n",
    "deltas = np.zeros(len(T))\n",
    "\n",
    "\n",
    "#for t in range(len(T)):\n",
    "\n",
    "\n",
    "for t in range(len(T)):\n",
    "     \n",
    "    popt , pcov = curve_fit(lambda A, alfa, beta, gamma, eta, delta: binding(A, T[t], alfa, beta, gamma, eta, delta), A, Y[t],\n",
    "                            p0 = (-16.11, 20.21, 20.65, 48.00, 33.00))    \n",
    "        \n",
    "\n",
    "    alfas[t] = popt[0]\n",
    "    betas[t] = popt[1]\n",
    "    gammas[t] = popt[2]\n",
    "    etas[t] = popt[3]\n",
    "\n",
    "\n",
    "\n",
    "\n",
    "\n",
    "'''\n",
    "for t in range(len(T)):\n",
    "     \n",
    "    popt , pcov = curve_fit(lambda P, alfa, beta, gamma, eta, delta: binding(P, T[t] ,alfa, beta, gamma, eta, delta), A, Y[t],\n",
    "                            p0 = (-16.11, 20.21, 20.65, 48.00, 33.00))\n",
    "\n",
    "    alfas[t] = popt[0]\n",
    "    betas[t] = popt[1]\n",
    "    gammas[t] = popt[2]\n",
    "    etas[t] = popt[3]\n",
    "\n",
    "'''\n",
    "\n"
   ]
  },
  {
   "cell_type": "code",
   "execution_count": null,
   "metadata": {},
   "outputs": [],
   "source": []
  },
  {
   "cell_type": "code",
   "execution_count": 191,
   "metadata": {},
   "outputs": [
    {
     "data": {
      "image/png": "[encoded data removed]",
      "text/plain": [
       "<Figure size 432x288 with 1 Axes>"
      ]
     },
     "metadata": {
      "needs_background": "light"
     },
     "output_type": "display_data"
    }
   ],
   "source": [
    "\n",
    "\n",
    "plt.plot(T, alfas, 'bo', )\n",
    "plt.xlabel(r'$T(MeV)$')\n",
    "plt.ylabel(r'$\\alpha(T)$')\n",
    "plt.savefig('alfa.pdf')\n"
   ]
  },
  {
   "cell_type": "code",
   "execution_count": 192,
   "metadata": {},
   "outputs": [
    {
     "data": {
      "image/png": "[encoded data removed]",
      "text/plain": [
       "<Figure size 432x288 with 1 Axes>"
      ]
     },
     "metadata": {
      "needs_background": "light"
     },
     "output_type": "display_data"
    }
   ],
   "source": [
    "plt.plot(T, betas, 'ro')\n",
    "plt.xlabel(r'$T(MeV)$')\n",
    "plt.ylabel(r'$\\beta(T)$')\n",
    "plt.savefig('beta.pdf')"
   ]
  },
  {
   "cell_type": "code",
   "execution_count": 193,
   "metadata": {},
   "outputs": [
    {
     "data": {
      "image/png": "[encoded data removed]",
      "text/plain": [
       "<Figure size 432x288 with 1 Axes>"
      ]
     },
     "metadata": {
      "needs_background": "light"
     },
     "output_type": "display_data"
    }
   ],
   "source": [
    "plt.plot(T, gammas, 'go')\n",
    "plt.xlabel(r'$T(MeV)$')\n",
    "plt.ylabel(r'$\\gamma(T)$')\n",
    "plt.savefig('gamma.pdf')"
   ]
  },
  {
   "cell_type": "code",
   "execution_count": 194,
   "metadata": {},
   "outputs": [
    {
     "data": {
      "image/png": "[encoded data removed]",
      "text/plain": [
       "<Figure size 432x288 with 1 Axes>"
      ]
     },
     "metadata": {
      "needs_background": "light"
     },
     "output_type": "display_data"
    }
   ],
   "source": [
    "plt.plot(T, etas, 'yo')\n",
    "plt.xlabel(r'$T(MeV)$')\n",
    "plt.ylabel(r'$\\eta(T)$')\n",
    "plt.savefig('eta.pdf')"
   ]
  },
  {
   "cell_type": "code",
   "execution_count": 195,
   "metadata": {},
   "outputs": [
    {
     "data": {
      "image/png": "[encoded data removed]",
      "text/plain": [
       "<Figure size 432x288 with 1 Axes>"
      ]
     },
     "metadata": {
      "needs_background": "light"
     },
     "output_type": "display_data"
    }
   ],
   "source": [
    "plt.plot(T, deltas, 'ko')\n",
    "plt.xlabel(r'$T(MeV)$')\n",
    "plt.ylabel(r'$\\delta(T)$')\n",
    "plt.savefig('delta.pdf')"
   ]
  },
  {
   "cell_type": "code",
   "execution_count": 139,
   "metadata": {},
   "outputs": [],
   "source": [
    "\n",
    "import numpy as np\n",
    "\n",
    "t = np.array([5000, 4000, 3000, 2000, 1000])\n",
    "\n",
    "l = t/1000\n"
   ]
  },
  {
   "cell_type": "code",
   "execution_count": 25,
   "metadata": {},
   "outputs": [
    {
     "data": {
      "text/plain": [
       "array([5., 4., 3., 2., 1.])"
      ]
     },
     "execution_count": 25,
     "metadata": {},
     "output_type": "execute_result"
    }
   ],
   "source": [
    "l"
   ]
  },
  {
   "cell_type": "code",
   "execution_count": 26,
   "metadata": {},
   "outputs": [],
   "source": [
    "element_file = pd.read_csv('63Zn'+'.csv', names=['Z', 'N', 'symbol', 'energy', 'unc', 'jp', 'half-life operator',\n",
    "            'half_life', 'unc.1', 'unit', 'half_life[s]', 'unc.2', 'decay',\n",
    "            'decay %', 'unc.3', 'decay.1', 'decay %.1', 'unc.4', 'decay.2',\n",
    "            'decay %.2', 'unc.5', 'isospin', 'magn. dipole', 'unc.6',\n",
    "            'elect.quadrupole ', 'unc.7'], comment=',', header=None)\n",
    "            "
   ]
  },
  {
   "cell_type": "code",
   "execution_count": 27,
   "metadata": {},
   "outputs": [
    {
     "data": {
      "text/html": [
       "<div>\n",
       "<style scoped>\n",
       "    .dataframe tbody tr th:only-of-type {\n",
       "        vertical-align: middle;\n",
       "    }\n",
       "\n",
       "    .dataframe tbody tr th {\n",
       "        vertical-align: top;\n",
       "    }\n",
       "\n",
       "    .dataframe thead th {\n",
       "        text-align: right;\n",
       "    }\n",
       "</style>\n",
       "<table border=\"1\" class=\"dataframe\">\n",
       "  <thead>\n",
       "    <tr style=\"text-align: right;\">\n",
       "      <th></th>\n",
       "      <th>Z</th>\n",
       "      <th>N</th>\n",
       "      <th>symbol</th>\n",
       "      <th>energy</th>\n",
       "      <th>unc</th>\n",
       "      <th>jp</th>\n",
       "      <th>half-life operator</th>\n",
       "      <th>half_life</th>\n",
       "      <th>unc.1</th>\n",
       "      <th>unit</th>\n",
       "      <th>...</th>\n",
       "      <th>decay %.1</th>\n",
       "      <th>unc.4</th>\n",
       "      <th>decay.2</th>\n",
       "      <th>decay %.2</th>\n",
       "      <th>unc.5</th>\n",
       "      <th>isospin</th>\n",
       "      <th>magn. dipole</th>\n",
       "      <th>unc.6</th>\n",
       "      <th>elect.quadrupole</th>\n",
       "      <th>unc.7</th>\n",
       "    </tr>\n",
       "  </thead>\n",
       "  <tbody>\n",
       "    <tr>\n",
       "      <th>0</th>\n",
       "      <td>Z</td>\n",
       "      <td>N</td>\n",
       "      <td>symbol</td>\n",
       "      <td>energy</td>\n",
       "      <td>unc</td>\n",
       "      <td>jp</td>\n",
       "      <td>half-life operator</td>\n",
       "      <td>half_life</td>\n",
       "      <td>unc</td>\n",
       "      <td>unit</td>\n",
       "      <td>...</td>\n",
       "      <td>decay %</td>\n",
       "      <td>unc</td>\n",
       "      <td>decay</td>\n",
       "      <td>decay %</td>\n",
       "      <td>unc</td>\n",
       "      <td>isospin</td>\n",
       "      <td>magn. dipole</td>\n",
       "      <td>unc</td>\n",
       "      <td>elect. quadrupole</td>\n",
       "      <td>unc</td>\n",
       "    </tr>\n",
       "    <tr>\n",
       "      <th>1</th>\n",
       "      <td>30</td>\n",
       "      <td>33</td>\n",
       "      <td>Zn</td>\n",
       "      <td>0</td>\n",
       "      <td></td>\n",
       "      <td>3/2-</td>\n",
       "      <td></td>\n",
       "      <td>38.47</td>\n",
       "      <td>5</td>\n",
       "      <td>m</td>\n",
       "      <td>...</td>\n",
       "      <td></td>\n",
       "      <td></td>\n",
       "      <td></td>\n",
       "      <td></td>\n",
       "      <td></td>\n",
       "      <td></td>\n",
       "      <td>-0.28164</td>\n",
       "      <td></td>\n",
       "      <td>0.29</td>\n",
       "      <td></td>\n",
       "    </tr>\n",
       "    <tr>\n",
       "      <th>2</th>\n",
       "      <td>30</td>\n",
       "      <td>33</td>\n",
       "      <td>Zn</td>\n",
       "      <td>192.92</td>\n",
       "      <td>0.04</td>\n",
       "      <td>5/2-</td>\n",
       "      <td></td>\n",
       "      <td>0.53</td>\n",
       "      <td>12</td>\n",
       "      <td>ns</td>\n",
       "      <td>...</td>\n",
       "      <td></td>\n",
       "      <td></td>\n",
       "      <td></td>\n",
       "      <td></td>\n",
       "      <td></td>\n",
       "      <td></td>\n",
       "      <td></td>\n",
       "      <td></td>\n",
       "      <td></td>\n",
       "      <td></td>\n",
       "    </tr>\n",
       "    <tr>\n",
       "      <th>3</th>\n",
       "      <td>30</td>\n",
       "      <td>33</td>\n",
       "      <td>Zn</td>\n",
       "      <td>247.84</td>\n",
       "      <td>0.05</td>\n",
       "      <td>1/2-</td>\n",
       "      <td></td>\n",
       "      <td>33</td>\n",
       "      <td>8</td>\n",
       "      <td>ps</td>\n",
       "      <td>...</td>\n",
       "      <td></td>\n",
       "      <td></td>\n",
       "      <td></td>\n",
       "      <td></td>\n",
       "      <td></td>\n",
       "      <td></td>\n",
       "      <td></td>\n",
       "      <td></td>\n",
       "      <td></td>\n",
       "      <td></td>\n",
       "    </tr>\n",
       "    <tr>\n",
       "      <th>4</th>\n",
       "      <td>30</td>\n",
       "      <td>33</td>\n",
       "      <td>Zn</td>\n",
       "      <td>627.11</td>\n",
       "      <td>0.06</td>\n",
       "      <td>1/2-</td>\n",
       "      <td></td>\n",
       "      <td></td>\n",
       "      <td></td>\n",
       "      <td></td>\n",
       "      <td>...</td>\n",
       "      <td></td>\n",
       "      <td></td>\n",
       "      <td></td>\n",
       "      <td></td>\n",
       "      <td></td>\n",
       "      <td></td>\n",
       "      <td></td>\n",
       "      <td></td>\n",
       "      <td></td>\n",
       "      <td></td>\n",
       "    </tr>\n",
       "    <tr>\n",
       "      <th>...</th>\n",
       "      <td>...</td>\n",
       "      <td>...</td>\n",
       "      <td>...</td>\n",
       "      <td>...</td>\n",
       "      <td>...</td>\n",
       "      <td>...</td>\n",
       "      <td>...</td>\n",
       "      <td>...</td>\n",
       "      <td>...</td>\n",
       "      <td>...</td>\n",
       "      <td>...</td>\n",
       "      <td>...</td>\n",
       "      <td>...</td>\n",
       "      <td>...</td>\n",
       "      <td>...</td>\n",
       "      <td>...</td>\n",
       "      <td>...</td>\n",
       "      <td>...</td>\n",
       "      <td>...</td>\n",
       "      <td>...</td>\n",
       "      <td>...</td>\n",
       "    </tr>\n",
       "    <tr>\n",
       "      <th>69</th>\n",
       "      <td>30</td>\n",
       "      <td>33</td>\n",
       "      <td>Zn</td>\n",
       "      <td>7200</td>\n",
       "      <td></td>\n",
       "      <td>(5/2 7/2)-</td>\n",
       "      <td></td>\n",
       "      <td></td>\n",
       "      <td></td>\n",
       "      <td></td>\n",
       "      <td>...</td>\n",
       "      <td></td>\n",
       "      <td></td>\n",
       "      <td></td>\n",
       "      <td></td>\n",
       "      <td></td>\n",
       "      <td></td>\n",
       "      <td></td>\n",
       "      <td></td>\n",
       "      <td></td>\n",
       "      <td></td>\n",
       "    </tr>\n",
       "    <tr>\n",
       "      <th>70</th>\n",
       "      <td>30</td>\n",
       "      <td>33</td>\n",
       "      <td>Zn</td>\n",
       "      <td>7610.8</td>\n",
       "      <td>1.2</td>\n",
       "      <td>25/2-</td>\n",
       "      <td></td>\n",
       "      <td></td>\n",
       "      <td></td>\n",
       "      <td></td>\n",
       "      <td>...</td>\n",
       "      <td></td>\n",
       "      <td></td>\n",
       "      <td></td>\n",
       "      <td></td>\n",
       "      <td></td>\n",
       "      <td></td>\n",
       "      <td></td>\n",
       "      <td></td>\n",
       "      <td></td>\n",
       "      <td></td>\n",
       "    </tr>\n",
       "    <tr>\n",
       "      <th>71</th>\n",
       "      <td>30</td>\n",
       "      <td>33</td>\n",
       "      <td>Zn</td>\n",
       "      <td>7927</td>\n",
       "      <td>1.3</td>\n",
       "      <td>27/2(-)</td>\n",
       "      <td></td>\n",
       "      <td></td>\n",
       "      <td></td>\n",
       "      <td></td>\n",
       "      <td>...</td>\n",
       "      <td></td>\n",
       "      <td></td>\n",
       "      <td></td>\n",
       "      <td></td>\n",
       "      <td></td>\n",
       "      <td></td>\n",
       "      <td></td>\n",
       "      <td></td>\n",
       "      <td></td>\n",
       "      <td></td>\n",
       "    </tr>\n",
       "    <tr>\n",
       "      <th>72</th>\n",
       "      <td>30</td>\n",
       "      <td>33</td>\n",
       "      <td>Zn</td>\n",
       "      <td>9096.8</td>\n",
       "      <td>1.6</td>\n",
       "      <td>(29/2-)</td>\n",
       "      <td></td>\n",
       "      <td></td>\n",
       "      <td></td>\n",
       "      <td></td>\n",
       "      <td>...</td>\n",
       "      <td></td>\n",
       "      <td></td>\n",
       "      <td></td>\n",
       "      <td></td>\n",
       "      <td></td>\n",
       "      <td></td>\n",
       "      <td></td>\n",
       "      <td></td>\n",
       "      <td></td>\n",
       "      <td></td>\n",
       "    </tr>\n",
       "    <tr>\n",
       "      <th>73</th>\n",
       "      <td>30</td>\n",
       "      <td>33</td>\n",
       "      <td>Zn</td>\n",
       "      <td>9774</td>\n",
       "      <td>1.6</td>\n",
       "      <td>(31/2-)</td>\n",
       "      <td></td>\n",
       "      <td></td>\n",
       "      <td></td>\n",
       "      <td></td>\n",
       "      <td>...</td>\n",
       "      <td></td>\n",
       "      <td></td>\n",
       "      <td></td>\n",
       "      <td></td>\n",
       "      <td></td>\n",
       "      <td></td>\n",
       "      <td></td>\n",
       "      <td></td>\n",
       "      <td></td>\n",
       "      <td></td>\n",
       "    </tr>\n",
       "  </tbody>\n",
       "</table>\n",
       "<p>74 rows × 26 columns</p>\n",
       "</div>"
      ],
      "text/plain": [
       "     Z   N  symbol   energy   unc          jp  half-life operator   half_life  \\\n",
       "0    Z   N  symbol  energy    unc          jp  half-life operator   half_life   \n",
       "1   30  33      Zn        0              3/2-                           38.47   \n",
       "2   30  33      Zn   192.92  0.04        5/2-                            0.53   \n",
       "3   30  33      Zn   247.84  0.05        1/2-                              33   \n",
       "4   30  33      Zn   627.11  0.06        1/2-                                   \n",
       "..  ..  ..     ...      ...   ...         ...                 ...         ...   \n",
       "69  30  33      Zn     7200        (5/2 7/2)-                                   \n",
       "70  30  33      Zn   7610.8   1.2       25/2-                                   \n",
       "71  30  33      Zn     7927   1.3     27/2(-)                                   \n",
       "72  30  33      Zn   9096.8   1.6     (29/2-)                                   \n",
       "73  30  33      Zn     9774   1.6     (31/2-)                                   \n",
       "\n",
       "   unc.1  unit  ... decay %.1 unc.4 decay.2 decay %.2 unc.5  isospin  \\\n",
       "0    unc  unit  ...   decay %   unc   decay   decay %   unc  isospin   \n",
       "1      5     m  ...                                                    \n",
       "2     12    ns  ...                                                    \n",
       "3      8    ps  ...                                                    \n",
       "4               ...                                                    \n",
       "..   ...   ...  ...       ...   ...     ...       ...   ...      ...   \n",
       "69              ...                                                    \n",
       "70              ...                                                    \n",
       "71              ...                                                    \n",
       "72              ...                                                    \n",
       "73              ...                                                    \n",
       "\n",
       "    magn. dipole unc.6    elect.quadrupole  unc.7  \n",
       "0   magn. dipole   unc   elect. quadrupole    unc  \n",
       "1       -0.28164                       0.29        \n",
       "2                                                  \n",
       "3                                                  \n",
       "4                                                  \n",
       "..           ...   ...                  ...   ...  \n",
       "69                                                 \n",
       "70                                                 \n",
       "71                                                 \n",
       "72                                                 \n",
       "73                                                 \n",
       "\n",
       "[74 rows x 26 columns]"
      ]
     },
     "execution_count": 27,
     "metadata": {},
     "output_type": "execute_result"
    }
   ],
   "source": [
    "element_file"
   ]
  },
  {
   "cell_type": "code",
   "execution_count": 28,
   "metadata": {},
   "outputs": [],
   "source": [
    "element_file['energy'] = pd.to_numeric(element_file['energy'], errors='coerce')"
   ]
  },
  {
   "cell_type": "code",
   "execution_count": 29,
   "metadata": {},
   "outputs": [],
   "source": [
    "element_file.dropna(subset = ['energy'], inplace=True) "
   ]
  },
  {
   "cell_type": "code",
   "execution_count": 30,
   "metadata": {},
   "outputs": [
    {
     "data": {
      "text/plain": [
       "pandas.core.series.Series"
      ]
     },
     "execution_count": 30,
     "metadata": {},
     "output_type": "execute_result"
    }
   ],
   "source": [
    "type(element_file['energy'][2:])"
   ]
  },
  {
   "cell_type": "code",
   "execution_count": 33,
   "metadata": {},
   "outputs": [
    {
     "data": {
      "text/plain": [
       "3      247.84\n",
       "4      627.11\n",
       "5      637.07\n",
       "6      650.10\n",
       "7     1023.22\n",
       "       ...   \n",
       "69    7200.00\n",
       "70    7610.80\n",
       "71    7927.00\n",
       "72    9096.80\n",
       "73    9774.00\n",
       "Name: energy, Length: 71, dtype: float64"
      ]
     },
     "execution_count": 33,
     "metadata": {},
     "output_type": "execute_result"
    }
   ],
   "source": [
    "element_file['energy'][2:]\n"
   ]
  },
  {
   "cell_type": "code",
   "execution_count": 34,
   "metadata": {},
   "outputs": [
    {
     "data": {
      "text/plain": [
       "array([ 247.84,  627.11,  637.07,  650.1 , 1023.22, 1063.34, 1065.28,\n",
       "       1206.38, 1284.26, 1395.44, 1420.  , 1436.26, 1664.86, 1691.22,\n",
       "       1702.96, 1704.  , 1860.84, 1909.26, 1978.4 , 2050.42, 2158.1 ,\n",
       "       2233.3 , 2249.2 , 2261.53, 2288.31, 2291.46, 2293.  , 2318.8 ,\n",
       "       2377.86, 2403.28, 2521.14, 2584.5 , 2600.1 , 2609.1 , 2634.53,\n",
       "       2690.9 , 2750.7 , 2826.2 , 2850.  , 2911.9 , 2933.5 , 2940.  ,\n",
       "       3010.  , 3380.  , 3480.3 , 3527.4 , 3762.8 , 3769.7 , 3890.9 ,\n",
       "       4000.  , 4320.  , 4354.6 , 4800.  , 4902.2 , 5076.3 , 5346.5 ,\n",
       "       5400.  , 5405.9 , 5423.4 , 5915.7 , 6000.  , 6233.8 , 6300.  ,\n",
       "       6487.3 , 6570.  , 6700.  , 7200.  , 7610.8 , 7927.  , 9096.8 ,\n",
       "       9774.  ])"
      ]
     },
     "execution_count": 34,
     "metadata": {},
     "output_type": "execute_result"
    }
   ],
   "source": [
    "element_file['energy'][2:].to_numpy()"
   ]
  },
  {
   "cell_type": "code",
   "execution_count": 35,
   "metadata": {},
   "outputs": [
    {
     "data": {
      "text/plain": [
       "3     0.24784\n",
       "4     0.62711\n",
       "5     0.63707\n",
       "6     0.65010\n",
       "7     1.02322\n",
       "       ...   \n",
       "69    7.20000\n",
       "70    7.61080\n",
       "71    7.92700\n",
       "72    9.09680\n",
       "73    9.77400\n",
       "Name: energy, Length: 71, dtype: float64"
      ]
     },
     "execution_count": 35,
     "metadata": {},
     "output_type": "execute_result"
    }
   ],
   "source": [
    "element_file['energy'][2:]/1000"
   ]
  },
  {
   "cell_type": "code",
   "execution_count": 37,
   "metadata": {},
   "outputs": [
    {
     "data": {
      "text/plain": [
       "9774.0"
      ]
     },
     "execution_count": 37,
     "metadata": {},
     "output_type": "execute_result"
    }
   ],
   "source": [
    "element_file['energy'][element_file['energy'].shape[0]]"
   ]
  },
  {
   "cell_type": "code",
   "execution_count": 38,
   "metadata": {},
   "outputs": [],
   "source": [
    "def z_1d( E, T ):\n",
    "    ''' Derivada de la primera parte de la función de partición'''\n",
    "    \n",
    "    suma = 0\n",
    "    \n",
    "    for e in E:\n",
    "        suma += e * np.exp(-e/T)\n",
    "        \n",
    "    return suma"
   ]
  },
  {
   "cell_type": "code",
   "execution_count": 44,
   "metadata": {},
   "outputs": [
    {
     "data": {
      "text/plain": [
       "86.60101906075008"
      ]
     },
     "execution_count": 44,
     "metadata": {},
     "output_type": "execute_result"
    }
   ],
   "source": [
    "z_1d(element_file['energy'][2:]/1000, 4)"
   ]
  },
  {
   "cell_type": "code",
   "execution_count": 97,
   "metadata": {},
   "outputs": [],
   "source": [
    "\n",
    "def cuadrado(x, a):\n",
    "    \n",
    "    return a*x**2\n",
    "\n",
    "sol = quad(cuadrado, 0, 2, args=(1))\n"
   ]
  },
  {
   "cell_type": "code",
   "execution_count": 98,
   "metadata": {},
   "outputs": [
    {
     "data": {
      "text/plain": [
       "(2.666666666666667, 2.960594732333751e-14)"
      ]
     },
     "execution_count": 98,
     "metadata": {},
     "output_type": "execute_result"
    }
   ],
   "source": [
    "sol"
   ]
  },
  {
   "cell_type": "code",
   "execution_count": null,
   "metadata": {},
   "outputs": [],
   "source": []
  }
 ],
 "metadata": {
  "kernelspec": {
   "display_name": "Python 3",
   "language": "python",
   "name": "python3"
  },
  "language_info": {
   "codemirror_mode": {
    "name": "ipython",
    "version": 3
   },
   "file_extension": ".py",
   "mimetype": "text/x-python",
   "name": "python",
   "nbconvert_exporter": "python",
   "pygments_lexer": "ipython3",
   "version": "3.8.5"
  }
 },
 "nbformat": 4,
 "nbformat_minor": 4
}
